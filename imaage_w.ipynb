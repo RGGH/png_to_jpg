{
 "cells": [
  {
   "cell_type": "code",
   "execution_count": 58,
   "id": "658005b8-d3cf-4e6e-a7a9-338826ea810b",
   "metadata": {},
   "outputs": [
    {
     "name": "stdout",
     "output_type": "stream",
     "text": [
      "\u001b[01;34m.\u001b[0m\n",
      "├── Cargo.lock\n",
      "├── Cargo.toml\n",
      "├── imaage_w.ipynb\n",
      "├── \u001b[01;34moutput_images\u001b[0m\n",
      "├── \u001b[01;34msrc\u001b[0m\n",
      "│   ├── \u001b[01;34minput_images\u001b[0m\n",
      "│   ├── main.rs\n",
      "│   ├── \u001b[01;34moutput_images\u001b[0m\n",
      "│   ├── \u001b[01;32mpng_to_jpg\u001b[0m\n",
      "│   ├── \u001b[01;35mt-rec.mp4\u001b[0m\n",
      "│   └── version_p.py\n",
      "└── \u001b[01;34mtarget\u001b[0m\n",
      "    ├── CACHEDIR.TAG\n",
      "    ├── \u001b[01;34mdebug\u001b[0m\n",
      "    └── \u001b[01;34mrelease\u001b[0m\n",
      "\n",
      "7 directories, 8 files\n"
     ]
    }
   ],
   "source": [
    "!tree -L 2"
   ]
  },
  {
   "cell_type": "code",
   "execution_count": 59,
   "id": "41e79bbc-7571-43cd-9a28-5a1cf2f586d9",
   "metadata": {},
   "outputs": [],
   "source": [
    "from PIL import Image\n",
    "import os\n",
    "from multiprocessing import Pool\n",
    "import time\n",
    "import shutil"
   ]
  },
  {
   "cell_type": "code",
   "execution_count": 60,
   "id": "bdfd56fc-4668-45bb-9215-343a9dfe554d",
   "metadata": {},
   "outputs": [],
   "source": [
    "directory_path =  \"src/output_images/\"\n",
    "if os.path.exists(directory_path):\n",
    "    # Remove the directory and its contents\n",
    "    shutil.rmtree(directory_path)\n",
    "# Recreate the empty directory\n",
    "os.makedirs(directory_path)"
   ]
  },
  {
   "cell_type": "code",
   "execution_count": 61,
   "id": "07931e72-c365-4aae-838a-74fe5c70694c",
   "metadata": {},
   "outputs": [],
   "source": [
    "def process_image(input_path, output_dir):\n",
    "    # Open the input file\n",
    "    with Image.open(input_path) as img:\n",
    "        # Convert the image to RGB\n",
    "        rgb_img = img.convert('RGB')\n",
    "        \n",
    "        # Resize the image to 224x224 pixels using BILINEAR resampling\n",
    "        resized_img = rgb_img.resize((224, 224), Image.BILINEAR)\n",
    "        \n",
    "        # Create the output file path\n",
    "        output_path = os.path.join(output_dir, os.path.basename(input_path))\n",
    "        \n",
    "        # Save the resized image as a JPEG to the output file\n",
    "        resized_img.save(output_path, format='JPEG')"
   ]
  },
  {
   "cell_type": "code",
   "execution_count": 62,
   "id": "cc565f67-da93-46a4-9f42-83124f9f4f6e",
   "metadata": {},
   "outputs": [],
   "source": [
    "def process_directory(input_dir, output_dir):\n",
    "    os.makedirs(output_dir, exist_ok=True)\n",
    "    \n",
    "    files = [os.path.join(input_dir, f) for f in os.listdir(input_dir) if os.path.isfile(os.path.join(input_dir, f))]\n",
    "    \n",
    "    with Pool() as pool:\n",
    "        pool.starmap(process_image, [(file, output_dir) for file in files])"
   ]
  },
  {
   "cell_type": "code",
   "execution_count": 63,
   "id": "d4af96c8-eb04-4f15-bff7-ff92f9e20b99",
   "metadata": {},
   "outputs": [
    {
     "name": "stdout",
     "output_type": "stream",
     "text": [
      "/home/rag/Documents/rust/png_to_jpg\n"
     ]
    }
   ],
   "source": [
    "!pwd"
   ]
  },
  {
   "cell_type": "code",
   "execution_count": 64,
   "id": "7b50b7e2-85bc-47a4-8c9e-baea3d2dce9d",
   "metadata": {},
   "outputs": [
    {
     "name": "stdout",
     "output_type": "stream",
     "text": [
      "Processing completed in 0.18 seconds\n"
     ]
    }
   ],
   "source": [
    "if __name__ == \"__main__\":\n",
    "    \n",
    "    input_dir = './src/input_images'\n",
    "    output_dir = './src/output_images'\n",
    "\n",
    "    # Start the timer\n",
    "    start_time = time.time()\n",
    "\n",
    "    process_directory(input_dir, output_dir)\n",
    "\n",
    "    # Stop the timer and print the elapsed time\n",
    "    elapsed_time = time.time() - start_time\n",
    "    print(f\"Processing completed in {elapsed_time:.2f} seconds\")"
   ]
  },
  {
   "cell_type": "code",
   "execution_count": null,
   "id": "efe9be39-e068-416f-9872-73caf83bb570",
   "metadata": {},
   "outputs": [],
   "source": []
  }
 ],
 "metadata": {
  "kernelspec": {
   "display_name": "Python 3 (ipykernel)",
   "language": "python",
   "name": "python3"
  },
  "language_info": {
   "codemirror_mode": {
    "name": "ipython",
    "version": 3
   },
   "file_extension": ".py",
   "mimetype": "text/x-python",
   "name": "python",
   "nbconvert_exporter": "python",
   "pygments_lexer": "ipython3",
   "version": "3.10.12"
  }
 },
 "nbformat": 4,
 "nbformat_minor": 5
}
